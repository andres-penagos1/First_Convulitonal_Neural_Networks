{
 "cells": [
  {
   "cell_type": "code",
   "execution_count": 1,
   "id": "8bba2ae1",
   "metadata": {
    "_cell_guid": "b1076dfc-b9ad-4769-8c92-a6c4dae69d19",
    "_uuid": "8f2839f25d086af736a60e9eeb907d3b93b6e0e5",
    "execution": {
     "iopub.execute_input": "2022-02-19T00:25:32.909506Z",
     "iopub.status.busy": "2022-02-19T00:25:32.908729Z",
     "iopub.status.idle": "2022-02-19T00:25:38.028366Z",
     "shell.execute_reply": "2022-02-19T00:25:38.028802Z",
     "shell.execute_reply.started": "2022-02-18T23:34:23.816230Z"
    },
    "papermill": {
     "duration": 5.142222,
     "end_time": "2022-02-19T00:25:38.029095",
     "exception": false,
     "start_time": "2022-02-19T00:25:32.886873",
     "status": "completed"
    },
    "tags": []
   },
   "outputs": [],
   "source": [
    "import tensorflow as tf\n",
    "from tensorflow.keras.datasets import fashion_mnist\n",
    "from tensorflow.keras.layers import Conv2D,Dropout,MaxPooling2D,Flatten,Dense\n",
    "import numpy as np\n",
    "import matplotlib.pyplot as plt"
   ]
  },
  {
   "cell_type": "code",
   "execution_count": 2,
   "id": "5b6d5103",
   "metadata": {
    "execution": {
     "iopub.execute_input": "2022-02-19T00:25:38.056554Z",
     "iopub.status.busy": "2022-02-19T00:25:38.055746Z",
     "iopub.status.idle": "2022-02-19T00:25:39.055488Z",
     "shell.execute_reply": "2022-02-19T00:25:39.054944Z",
     "shell.execute_reply.started": "2022-02-18T23:34:25.540939Z"
    },
    "papermill": {
     "duration": 1.014814,
     "end_time": "2022-02-19T00:25:39.055612",
     "exception": false,
     "start_time": "2022-02-19T00:25:38.040798",
     "status": "completed"
    },
    "tags": []
   },
   "outputs": [
    {
     "name": "stdout",
     "output_type": "stream",
     "text": [
      "Downloading data from https://storage.googleapis.com/tensorflow/tf-keras-datasets/train-labels-idx1-ubyte.gz\n",
      "32768/29515 [=================================] - 0s 4us/step\n",
      "Downloading data from https://storage.googleapis.com/tensorflow/tf-keras-datasets/train-images-idx3-ubyte.gz\n",
      "26427392/26421880 [==============================] - 14s 1us/step\n",
      "Downloading data from https://storage.googleapis.com/tensorflow/tf-keras-datasets/t10k-labels-idx1-ubyte.gz\n",
      "8192/5148 [===============================================] - 0s 0us/step\n",
      "Downloading data from https://storage.googleapis.com/tensorflow/tf-keras-datasets/t10k-images-idx3-ubyte.gz\n",
      "4423680/4422102 [==============================] - 6s 1us/step\n"
     ]
    }
   ],
   "source": [
    "(train_images,train_labels),(test_images,test_labels)=fashion_mnist.load_data()"
   ]
  },
  {
   "cell_type": "code",
   "execution_count": 3,
   "id": "372fddab",
   "metadata": {
    "execution": {
     "iopub.execute_input": "2022-02-19T00:25:39.096058Z",
     "iopub.status.busy": "2022-02-19T00:25:39.095415Z",
     "iopub.status.idle": "2022-02-19T00:25:39.098516Z",
     "shell.execute_reply": "2022-02-19T00:25:39.098930Z",
     "shell.execute_reply.started": "2022-02-18T23:34:25.976584Z"
    },
    "papermill": {
     "duration": 0.026279,
     "end_time": "2022-02-19T00:25:39.099066",
     "exception": false,
     "start_time": "2022-02-19T00:25:39.072787",
     "status": "completed"
    },
    "tags": []
   },
   "outputs": [
    {
     "data": {
      "text/plain": [
       "(60000, 28, 28)"
      ]
     },
     "execution_count": 3,
     "metadata": {},
     "output_type": "execute_result"
    }
   ],
   "source": [
    "train_images.shape"
   ]
  },
  {
   "cell_type": "code",
   "execution_count": 4,
   "id": "b8239849",
   "metadata": {
    "execution": {
     "iopub.execute_input": "2022-02-19T00:25:39.140354Z",
     "iopub.status.busy": "2022-02-19T00:25:39.139570Z",
     "iopub.status.idle": "2022-02-19T00:25:39.346245Z",
     "shell.execute_reply": "2022-02-19T00:25:39.345745Z",
     "shell.execute_reply.started": "2022-02-18T23:34:25.988477Z"
    },
    "papermill": {
     "duration": 0.230724,
     "end_time": "2022-02-19T00:25:39.346359",
     "exception": false,
     "start_time": "2022-02-19T00:25:39.115635",
     "status": "completed"
    },
    "tags": []
   },
   "outputs": [
    {
     "data": {
      "text/plain": [
       "<matplotlib.image.AxesImage at 0x1d25eaa1a60>"
      ]
     },
     "execution_count": 4,
     "metadata": {},
     "output_type": "execute_result"
    },
    {
     "data": {
      "image/png": "[encoded data removed]",
      "text/plain": [
       "<Figure size 432x288 with 1 Axes>"
      ]
     },
     "metadata": {
      "needs_background": "light"
     },
     "output_type": "display_data"
    }
   ],
   "source": [
    "plt.imshow(train_images[60])"
   ]
  },
  {
   "cell_type": "code",
   "execution_count": 5,
   "id": "e5f1a7c9",
   "metadata": {
    "execution": {
     "iopub.execute_input": "2022-02-19T00:25:39.386224Z",
     "iopub.status.busy": "2022-02-19T00:25:39.385119Z",
     "iopub.status.idle": "2022-02-19T00:25:39.465603Z",
     "shell.execute_reply": "2022-02-19T00:25:39.465011Z",
     "shell.execute_reply.started": "2022-02-18T23:34:26.189400Z"
    },
    "papermill": {
     "duration": 0.101607,
     "end_time": "2022-02-19T00:25:39.465730",
     "exception": false,
     "start_time": "2022-02-19T00:25:39.364123",
     "status": "completed"
    },
    "tags": []
   },
   "outputs": [],
   "source": [
    "train_images=train_images.astype('float32')/255\n",
    "test_images=test_images.astype('float32')/255"
   ]
  },
  {
   "cell_type": "code",
   "execution_count": 6,
   "id": "ab280040",
   "metadata": {
    "execution": {
     "iopub.execute_input": "2022-02-19T00:25:39.506287Z",
     "iopub.status.busy": "2022-02-19T00:25:39.505456Z",
     "iopub.status.idle": "2022-02-19T00:25:39.507928Z",
     "shell.execute_reply": "2022-02-19T00:25:39.507508Z",
     "shell.execute_reply.started": "2022-02-18T23:34:26.273607Z"
    },
    "papermill": {
     "duration": 0.024404,
     "end_time": "2022-02-19T00:25:39.508081",
     "exception": false,
     "start_time": "2022-02-19T00:25:39.483677",
     "status": "completed"
    },
    "tags": []
   },
   "outputs": [],
   "source": [
    "##hacer un reshape de la primera dimension del dataser\n",
    "train_images=train_images.reshape(train_images.shape[0],28,28,1)\n",
    "test_images=test_images.reshape(test_images.shape[0],28,28,1)"
   ]
  },
  {
   "cell_type": "code",
   "execution_count": 7,
   "id": "a04a8049",
   "metadata": {
    "execution": {
     "iopub.execute_input": "2022-02-19T00:25:39.545975Z",
     "iopub.status.busy": "2022-02-19T00:25:39.543816Z",
     "iopub.status.idle": "2022-02-19T00:25:39.550667Z",
     "shell.execute_reply": "2022-02-19T00:25:39.551127Z",
     "shell.execute_reply.started": "2022-02-18T23:34:26.280726Z"
    },
    "papermill": {
     "duration": 0.026278,
     "end_time": "2022-02-19T00:25:39.551253",
     "exception": false,
     "start_time": "2022-02-19T00:25:39.524975",
     "status": "completed"
    },
    "tags": []
   },
   "outputs": [],
   "source": [
    "train_labels= tf.keras.utils.to_categorical(train_labels,10)\n",
    "test_labels= tf.keras.utils.to_categorical(test_labels,10)"
   ]
  },
  {
   "cell_type": "code",
   "execution_count": 8,
   "id": "2c44f919",
   "metadata": {
    "execution": {
     "iopub.execute_input": "2022-02-19T00:25:39.591674Z",
     "iopub.status.busy": "2022-02-19T00:25:39.591167Z",
     "iopub.status.idle": "2022-02-19T00:25:42.080104Z",
     "shell.execute_reply": "2022-02-19T00:25:42.081070Z",
     "shell.execute_reply.started": "2022-02-18T23:34:26.294806Z"
    },
    "papermill": {
     "duration": 2.512848,
     "end_time": "2022-02-19T00:25:42.081269",
     "exception": false,
     "start_time": "2022-02-19T00:25:39.568421",
     "status": "completed"
    },
    "tags": []
   },
   "outputs": [
    {
     "name": "stdout",
     "output_type": "stream",
     "text": [
      "Model: \"sequential\"\n",
      "_________________________________________________________________\n",
      "Layer (type)                 Output Shape              Param #   \n",
      "=================================================================\n",
      "conv2d (Conv2D)              (None, 28, 28, 64)        320       \n",
      "_________________________________________________________________\n",
      "max_pooling2d (MaxPooling2D) (None, 14, 14, 64)        0         \n",
      "_________________________________________________________________\n",
      "dropout (Dropout)            (None, 14, 14, 64)        0         \n",
      "_________________________________________________________________\n",
      "conv2d_1 (Conv2D)            (None, 14, 14, 32)        8224      \n",
      "_________________________________________________________________\n",
      "max_pooling2d_1 (MaxPooling2 (None, 7, 7, 32)          0         \n",
      "_________________________________________________________________\n",
      "dropout_1 (Dropout)          (None, 7, 7, 32)          0         \n",
      "_________________________________________________________________\n",
      "flatten (Flatten)            (None, 1568)              0         \n",
      "_________________________________________________________________\n",
      "dense (Dense)                (None, 256)               401664    \n",
      "_________________________________________________________________\n",
      "dropout_2 (Dropout)          (None, 256)               0         \n",
      "_________________________________________________________________\n",
      "dense_1 (Dense)              (None, 10)                2570      \n",
      "=================================================================\n",
      "Total params: 412,778\n",
      "Trainable params: 412,778\n",
      "Non-trainable params: 0\n",
      "_________________________________________________________________\n"
     ]
    }
   ],
   "source": [
    "##Creando nuestro modelo de Datos\n",
    "model = tf.keras.Sequential()\n",
    "model.add(Conv2D(filters=64, kernel_size=2, padding='same', activation='relu', input_shape=(28,28,1))) \n",
    "model.add(MaxPooling2D(pool_size=2))\n",
    "model.add(Dropout(0.3))\n",
    "model.add(Conv2D(filters=32, kernel_size=2, padding='same', activation='relu'))\n",
    "model.add(MaxPooling2D(pool_size=2))\n",
    "model.add(Dropout(0.3))\n",
    "model.add(Flatten())\n",
    "model.add(Dense(256, activation='relu'))\n",
    "model.add(Dropout(0.5))\n",
    "model.add(Dense(10, activation='softmax'))\n",
    "model.summary()"
   ]
  },
  {
   "cell_type": "code",
   "execution_count": 9,
   "id": "44eadbde",
   "metadata": {
    "execution": {
     "iopub.execute_input": "2022-02-19T00:25:42.123279Z",
     "iopub.status.busy": "2022-02-19T00:25:42.122539Z",
     "iopub.status.idle": "2022-02-19T00:25:42.130914Z",
     "shell.execute_reply": "2022-02-19T00:25:42.130494Z",
     "shell.execute_reply.started": "2022-02-18T23:35:14.194928Z"
    },
    "papermill": {
     "duration": 0.030592,
     "end_time": "2022-02-19T00:25:42.131015",
     "exception": false,
     "start_time": "2022-02-19T00:25:42.100423",
     "status": "completed"
    },
    "tags": []
   },
   "outputs": [],
   "source": [
    "##entrenando nuestra primera red convolucional clase5/24\n",
    "##Compilar y entrenar\n",
    "\n",
    "model.compile(loss='categorical_crossentropy',\n",
    "             optimizer='rmsprop',\n",
    "             metrics=['accuracy']) "
   ]
  },
  {
   "cell_type": "code",
   "execution_count": 10,
   "id": "4927c75c",
   "metadata": {
    "execution": {
     "iopub.execute_input": "2022-02-19T00:25:42.168760Z",
     "iopub.status.busy": "2022-02-19T00:25:42.167968Z",
     "iopub.status.idle": "2022-02-19T00:27:05.212914Z",
     "shell.execute_reply": "2022-02-19T00:27:05.212475Z",
     "shell.execute_reply.started": "2022-02-18T23:41:36.950358Z"
    },
    "papermill": {
     "duration": 83.06439,
     "end_time": "2022-02-19T00:27:05.213065",
     "exception": false,
     "start_time": "2022-02-19T00:25:42.148675",
     "status": "completed"
    },
    "tags": []
   },
   "outputs": [
    {
     "name": "stdout",
     "output_type": "stream",
     "text": [
      "Epoch 1/15\n",
      "938/938 [==============================] - 96s 102ms/step - loss: 0.5755 - accuracy: 0.7893\n",
      "Epoch 2/15\n",
      "938/938 [==============================] - 81s 86ms/step - loss: 0.4005 - accuracy: 0.8583\n",
      "Epoch 3/15\n",
      "938/938 [==============================] - 88s 94ms/step - loss: 0.3541 - accuracy: 0.8725\n",
      "Epoch 4/15\n",
      "938/938 [==============================] - 96s 102ms/step - loss: 0.3331 - accuracy: 0.8811\n",
      "Epoch 5/15\n",
      "938/938 [==============================] - 76s 81ms/step - loss: 0.3263 - accuracy: 0.8851\n",
      "Epoch 6/15\n",
      "938/938 [==============================] - 74s 79ms/step - loss: 0.3155 - accuracy: 0.8887\n",
      "Epoch 7/15\n",
      "938/938 [==============================] - 73s 77ms/step - loss: 0.3162 - accuracy: 0.8895\n",
      "Epoch 8/15\n",
      "938/938 [==============================] - 76s 81ms/step - loss: 0.3164 - accuracy: 0.8898\n",
      "Epoch 9/15\n",
      "938/938 [==============================] - 79s 84ms/step - loss: 0.3157 - accuracy: 0.8899\n",
      "Epoch 10/15\n",
      "938/938 [==============================] - 76s 81ms/step - loss: 0.3159 - accuracy: 0.8899\n",
      "Epoch 11/15\n",
      "938/938 [==============================] - 75s 80ms/step - loss: 0.3162 - accuracy: 0.8902\n",
      "Epoch 12/15\n",
      "938/938 [==============================] - 75s 79ms/step - loss: 0.3156 - accuracy: 0.8930\n",
      "Epoch 13/15\n",
      "938/938 [==============================] - 76s 81ms/step - loss: 0.3215 - accuracy: 0.8903\n",
      "Epoch 14/15\n",
      "938/938 [==============================] - 75s 80ms/step - loss: 0.3191 - accuracy: 0.8914\n",
      "Epoch 15/15\n",
      "938/938 [==============================] - 77s 82ms/step - loss: 0.3205 - accuracy: 0.8912\n"
     ]
    },
    {
     "data": {
      "text/plain": [
       "<tensorflow.python.keras.callbacks.History at 0x1d25b3c1c70>"
      ]
     },
     "execution_count": 10,
     "metadata": {},
     "output_type": "execute_result"
    }
   ],
   "source": [
    "model.fit(train_images,train_labels,batch_size=64,epochs=15)\n"
   ]
  },
  {
   "cell_type": "code",
   "execution_count": 11,
   "id": "fe71f1ce",
   "metadata": {
    "execution": {
     "iopub.execute_input": "2022-02-19T00:27:05.927419Z",
     "iopub.status.busy": "2022-02-19T00:27:05.926489Z",
     "iopub.status.idle": "2022-02-19T00:27:06.728539Z",
     "shell.execute_reply": "2022-02-19T00:27:06.728105Z",
     "shell.execute_reply.started": "2022-02-18T23:42:44.617059Z"
    },
    "papermill": {
     "duration": 1.160215,
     "end_time": "2022-02-19T00:27:06.728659",
     "exception": false,
     "start_time": "2022-02-19T00:27:05.568444",
     "status": "completed"
    },
    "tags": []
   },
   "outputs": [
    {
     "data": {
      "text/plain": [
       "[0.2820945978164673, 0.9046000242233276]"
      ]
     },
     "execution_count": 11,
     "metadata": {},
     "output_type": "execute_result"
    }
   ],
   "source": [
    "model.evaluate(test_images,test_labels,verbose=0)"
   ]
  }
 ],
 "metadata": {
  "kernelspec": {
   "display_name": "Python 3",
   "language": "python",
   "name": "python3"
  },
  "language_info": {
   "codemirror_mode": {
    "name": "ipython",
    "version": 3
   },
   "file_extension": ".py",
   "mimetype": "text/x-python",
   "name": "python",
   "nbconvert_exporter": "python",
   "pygments_lexer": "ipython3",
   "version": "3.8.13"
  },
  "papermill": {
   "default_parameters": {},
   "duration": 106.397218,
   "end_time": "2022-02-19T00:27:11.262578",
   "environment_variables": {},
   "exception": null,
   "input_path": "__notebook__.ipynb",
   "output_path": "__notebook__.ipynb",
   "parameters": {},
   "start_time": "2022-02-19T00:25:24.865360",
   "version": "2.3.3"
  }
 },
 "nbformat": 4,
 "nbformat_minor": 5
}
